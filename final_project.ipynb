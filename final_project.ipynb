{
 "cells": [
  {
   "cell_type": "markdown",
   "metadata": {},
   "source": [
    "# Statistical Mechanics Final Project\n",
    "## Name: 陳姿安     ID: 106022545"
   ]
  },
  {
   "cell_type": "markdown",
   "metadata": {},
   "source": [
    "### 最近我國開出一種新的樂透方式，名為\"雙贏彩\"!!!\n",
    "他標榜說如果平時怎麼簽樂透都不會中的人，可以試試這種玩法，\n",
    "在這邊我為大家分析一下，\n",
    "希望大家能好好評估，才不會花掉很多的冤枉錢。\n",
    "\n",
    "遊戲方式是從24個號碼中選出12個號碼，\n",
    "\n",
    "全沒中或者全部都中，則有1500萬的獎金!\n",
    "\n",
    "中1個或者11個，獎金10萬元\n",
    "\n",
    "中2個或者10個，獎金500元\n",
    "\n",
    "中3個或者9個，獎金100元\n",
    "\n",
    "以下我對他做了一些理論跟實驗上的分析，可以了解到他的中獎機率以及你的淨收益。"
   ]
  },
  {
   "cell_type": "markdown",
   "metadata": {},
   "source": [
    "#### 1.理論分析\n",
    "\n",
    "24個號碼的所有組合:  $C_{2}^{24}=2704156$ \n",
    "\n",
    "全中以及全不中的組合: $1+1=2$\n",
    "\n",
    "中1個以及中11個的組合: $C_{11}^{12}\\times C _{1}^{12}\\times 2=288$\n",
    "\n",
    "中2個以及中10個的組合: $C_{10}^{12}\\times C _{2}^{12}\\times 2=8712$\n",
    "\n",
    "中3個以及中9個的組合: $C_{9}^{12}\\times C _{3}^{12}\\times 2=96800$\n",
    "\n",
    "機率:\n",
    "\n",
    "全中以及全不中: $7.4\\times 10^{-5}\\%$\n",
    "\n",
    "中1個以及中11個: $0.01 \\%$\n",
    "\n",
    "中2個以及中10個: $0.32 \\%$\n",
    "\n",
    "中3個以及中9個: $3.58 \\%$\n",
    "\n",
    "摃龜: $96 \\%$\n",
    "\n",
    "以下是理論的計算程式..."
   ]
  },
  {
   "cell_type": "code",
   "execution_count": 52,
   "metadata": {},
   "outputs": [],
   "source": [
    "import numpy as np\n",
    "import random\n",
    "import matplotlib.pyplot as plt"
   ]
  },
  {
   "cell_type": "code",
   "execution_count": 2,
   "metadata": {},
   "outputs": [],
   "source": [
    "def C(N,q):\n",
    "    return np.math.factorial(N)/(np.math.factorial(q)* np.math.factorial(N-q))"
   ]
  },
  {
   "cell_type": "code",
   "execution_count": 3,
   "metadata": {},
   "outputs": [
    {
     "data": {
      "text/plain": [
       "2704156.0"
      ]
     },
     "execution_count": 3,
     "metadata": {},
     "output_type": "execute_result"
    }
   ],
   "source": [
    "C(24,12)"
   ]
  },
  {
   "cell_type": "code",
   "execution_count": 34,
   "metadata": {},
   "outputs": [],
   "source": [
    "def win_win(hits):\n",
    "    return C(12, hits) * C(12, 12-hits) / C(24,12) * 100"
   ]
  },
  {
   "cell_type": "code",
   "execution_count": 73,
   "metadata": {},
   "outputs": [
    {
     "name": "stdout",
     "output_type": "stream",
     "text": [
      "  中獎個數    機率(%)   \n",
      "    0      0.000037 \n",
      "    1      0.005325 \n",
      "    2      0.161085 \n",
      "    3      1.789838 \n",
      "    4      9.061053 \n",
      "    5     23.196295 \n",
      "    6     31.572735 \n",
      "    7     23.196295 \n",
      "    8      9.061053 \n",
      "    9      1.789838 \n",
      "    10     0.161085 \n",
      "    11     0.005325 \n",
      "    12     0.000037 \n"
     ]
    }
   ],
   "source": [
    "print(\"{:^8}{:^10}\".format('中獎個數', '機率(%)'))\n",
    "for i in range(0,13):\n",
    "    print(\"{:^10}{:^10.6f}\".format(i, win_win(i)))"
   ]
  },
  {
   "cell_type": "markdown",
   "metadata": {},
   "source": [
    "### 2.期望值\n",
    "期望值: $-23.065$\n",
    "\n",
    "也就是說你平均買一張就會賠23元!!"
   ]
  },
  {
   "cell_type": "code",
   "execution_count": 58,
   "metadata": {},
   "outputs": [
    {
     "name": "stdout",
     "output_type": "stream",
     "text": [
      "expected_value= -23.065163400336377\n"
     ]
    }
   ],
   "source": [
    "expected_value=(((15000000-50)*win_win(0)+(100000-50)*win_win(1)+(500-50)*win_win(2)+(100-50)*win_win(3)-50*win_win(4)-50*win_win(5))*2-50*win_win(6))/100\n",
    "print(\"expected_value=\",expected_value)"
   ]
  },
  {
   "cell_type": "markdown",
   "metadata": {},
   "source": [
    "### 3.模擬結果\n",
    "先選定一組確定中獎的號碼，然後試很多次，也就是說買很多張，看甚麼時候會中獎。\n",
    "以下我試了10萬次，分別得到中頭獎與其他獎的機率，並且畫了一張次數對淨收益的圖。"
   ]
  },
  {
   "cell_type": "code",
   "execution_count": 74,
   "metadata": {},
   "outputs": [],
   "source": [
    "bingo = { 1, 3, 5, 8, 9, 13, 15, 17, 19, 20, 21, 24} # 選定的中獎號碼"
   ]
  },
  {
   "cell_type": "code",
   "execution_count": 67,
   "metadata": {},
   "outputs": [],
   "source": [
    "bingos = [0, 0, 0, 0, 0]\n",
    "trials = 100000\n",
    "net_profit = 0\n",
    "net_profits = []\n",
    "\n",
    "for i in range(trials):\n",
    "    selected = set(random.sample(range(1,25),12))\n",
    "    hit_numbers = len(bingo & selected)\n",
    "    if hit_numbers == 0 or hit_numbers == 12:\n",
    "        bingos[0]+=1\n",
    "        net_profit += 15000000-50\n",
    "        net_profits.append(net_profit)\n",
    "    elif hit_numbers == 1 or hit_numbers == 11:\n",
    "        bingos[1]+=1\n",
    "        net_profit += 100000-50\n",
    "        net_profits.append(net_profit)\n",
    "    elif hit_numbers == 2 or hit_numbers == 10:\n",
    "        bingos[2]+=1\n",
    "        net_profit += 500-50\n",
    "        net_profits.append(net_profit)\n",
    "    elif hit_numbers == 3 or hit_numbers == 9:\n",
    "        bingos[3]+=1\n",
    "        net_profit += 100-50\n",
    "        net_profits.append(net_profit)\n",
    "    else:\n",
    "        bingos[4]+=1\n",
    "        net_profit += -50\n",
    "        net_profits.append(net_profit)"
   ]
  },
  {
   "cell_type": "code",
   "execution_count": 68,
   "metadata": {},
   "outputs": [],
   "source": [
    "prob = [x / trials * 100 for x in bingos]"
   ]
  },
  {
   "cell_type": "code",
   "execution_count": 69,
   "metadata": {},
   "outputs": [
    {
     "data": {
      "text/plain": [
       "[0.0, 0.016, 0.326, 3.599, 96.05900000000001]"
      ]
     },
     "execution_count": 69,
     "metadata": {},
     "output_type": "execute_result"
    }
   ],
   "source": [
    "prob"
   ]
  },
  {
   "cell_type": "code",
   "execution_count": 70,
   "metadata": {},
   "outputs": [
    {
     "name": "stdout",
     "output_type": "stream",
     "text": [
      "0.0\n",
      "0.016\n",
      "0.326\n",
      "3.599\n",
      "96.05900000000001\n"
     ]
    }
   ],
   "source": [
    "for i in range(len(prob)):\n",
    "    print(prob[i])"
   ]
  },
  {
   "cell_type": "markdown",
   "metadata": {},
   "source": [
    "結果:\n",
    "\n",
    "| 中頭獎機率 | 中1個或11個 | 中2個或10個 | 中3個或9個 |  中4~8個  |\n",
    "|:----------:|:-----------:|:-----------:|:----------:|-----------|\n",
    "|    0.0%    |    0.016%   |    0.326%   |   3.599%   |  96.059%  |\n",
    "\n",
    "                                 由此可知，與理論值相符。"
   ]
  },
  {
   "cell_type": "code",
   "execution_count": 78,
   "metadata": {},
   "outputs": [
    {
     "data": {
      "text/plain": [
       "Text(0,0.5,'net profit (TWD)')"
      ]
     },
     "execution_count": 78,
     "metadata": {},
     "output_type": "execute_result"
    },
    {
     "data": {
      "image/png": "[encoded data removed]",
      "text/plain": [
       "<matplotlib.figure.Figure at 0x1ea116944e0>"
      ]
     },
     "metadata": {},
     "output_type": "display_data"
    }
   ],
   "source": [
    "plt.plot(range(1, 100001), net_profits)\n",
    "plt.title(\"trials v.s net profit\") # 購買次數-淨收益圖\n",
    "plt.xlabel(\"trials\")\n",
    "plt.ylabel(\"net profit (TWD)\")"
   ]
  },
  {
   "cell_type": "markdown",
   "metadata": {},
   "source": [
    "結果:\n",
    "若是我們買了10萬張的彩卷，由這張圖可以看出，淨收益明顯往下滑，雖然會中獎，但還是明顯的賠錢。\n",
    "\n",
    "若是運氣好時，會得出以下的圖:\n"
   ]
  },
  {
   "cell_type": "code",
   "execution_count": 94,
   "metadata": {},
   "outputs": [
    {
     "data": {
      "text/plain": [
       "Text(0,0.5,'net profit (TWD)')"
      ]
     },
     "execution_count": 94,
     "metadata": {},
     "output_type": "execute_result"
    },
    {
     "data": {
      "image/png": "[encoded data removed]",
      "text/plain": [
       "<matplotlib.figure.Figure at 0x1ea184eb978>"
      ]
     },
     "metadata": {},
     "output_type": "display_data"
    }
   ],
   "source": [
    "bingo = { 1, 3, 5, 8, 9, 13, 15, 17, 19, 20, 21, 24}\n",
    "bingos = [0, 0, 0, 0, 0]\n",
    "trials = 100000\n",
    "net_profit = 0\n",
    "net_profits = []\n",
    "\n",
    "for i in range(trials):\n",
    "    selected = set(random.sample(range(1,25),12))\n",
    "    hit_numbers = len(bingo & selected)\n",
    "    if hit_numbers == 0 or hit_numbers == 12:\n",
    "        bingos[0]+=1\n",
    "        net_profit += 15000000-50\n",
    "        net_profits.append(net_profit)\n",
    "    elif hit_numbers == 1 or hit_numbers == 11:\n",
    "        bingos[1]+=1\n",
    "        net_profit += 100000-50\n",
    "        net_profits.append(net_profit)\n",
    "    elif hit_numbers == 2 or hit_numbers == 10:\n",
    "        bingos[2]+=1\n",
    "        net_profit += 500-50\n",
    "        net_profits.append(net_profit)\n",
    "    elif hit_numbers == 3 or hit_numbers == 9:\n",
    "        bingos[3]+=1\n",
    "        net_profit += 100-50\n",
    "        net_profits.append(net_profit)\n",
    "    else:\n",
    "        bingos[4]+=1\n",
    "        net_profit += -50\n",
    "        net_profits.append(net_profit)\n",
    "plt.plot(range(1, 100001), net_profits)\n",
    "plt.title(\"trials v.s net profit\") # 購買次數-淨收益圖\n",
    "plt.xlabel(\"trials\")\n",
    "plt.ylabel(\"net profit (TWD)\")"
   ]
  },
  {
   "cell_type": "markdown",
   "metadata": {},
   "source": [
    "結論:\n",
    "由這一系列的分析，我們可以知道整體而言，中獎機率還是太小，所以奉勸大家不要被廣告噱頭給迷惑了，偶爾玩玩試試看可以，但千萬別想著靠它賺錢!!!"
   ]
  },
  {
   "cell_type": "code",
   "execution_count": null,
   "metadata": {},
   "outputs": [],
   "source": []
  }
 ],
 "metadata": {
  "kernelspec": {
   "display_name": "Python 3",
   "language": "python",
   "name": "python3"
  },
  "language_info": {
   "codemirror_mode": {
    "name": "ipython",
    "version": 3
   },
   "file_extension": ".py",
   "mimetype": "text/x-python",
   "name": "python",
   "nbconvert_exporter": "python",
   "pygments_lexer": "ipython3",
   "version": "3.6.4"
  }
 },
 "nbformat": 4,
 "nbformat_minor": 2
}
